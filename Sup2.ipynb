{
  "nbformat": 4,
  "nbformat_minor": 0,
  "metadata": {
    "colab": {
      "name": "Sup2.ipynb",
      "provenance": [],
      "collapsed_sections": []
    },
    "kernelspec": {
      "name": "python3",
      "display_name": "Python 3"
    },
    "language_info": {
      "name": "python"
    }
  },
  "cells": [
    {
      "cell_type": "code",
      "execution_count": 1,
      "metadata": {
        "id": "GON6iRSbG-PX"
      },
      "outputs": [],
      "source": [
        "import numpy as np"
      ]
    },
    {
      "cell_type": "code",
      "source": [
        "def sigmoid(z):\n",
        "  return 1 / (1 + np.exp(-z))\n",
        "def sigmoid_grad(z):\n",
        "  t = sigmoid(z)\n",
        "  return t * (1 - t)"
      ],
      "metadata": {
        "id": "tv84SdZlPrxd"
      },
      "execution_count": 2,
      "outputs": []
    },
    {
      "cell_type": "code",
      "source": [
        "Activations = {\n",
        "    'sigmoid': sigmoid\n",
        "}\n",
        "Activations_grad = {\n",
        "    'sigmoid': sigmoid_grad\n",
        "}"
      ],
      "metadata": {
        "id": "A8eh2OJgP7IB"
      },
      "execution_count": 3,
      "outputs": []
    },
    {
      "cell_type": "code",
      "source": [
        "class Layer():\n",
        "  def __init__(self, n_neurons, activation):\n",
        "    self.n_neurons = n_neurons\n",
        "    self.w = None\n",
        "    self.activation = Activations[activation]\n",
        "    self.activation_grad = Activations_grad[activation]\n",
        "  def initialize(self, prev):\n",
        "    self.w = np.random.normal(size=(prev, self.n_neurons))\n",
        "  def compute(self, Oi):\n",
        "    Netj = np.dot(Oi, self.w)\n",
        "    Oj = self.activation(Netj)\n",
        "    return Netj, Oj\n",
        "  def grad(self, Dk, w_next, Oi):\n",
        "    partial = np.dot(Dk, w_next.T)\n",
        "    Netj = self.compute(Oi)[0]\n",
        "    delta = np.multiply(partial, self.activation_grad(Netj))\n",
        "    Dw = np.dot(Oi.T, delta)\n",
        "    return Dw, delta\n",
        "  def update(self, learning_rate, Dw):\n",
        "    self.w = self.w - learning_rate * Dw"
      ],
      "metadata": {
        "id": "JDuzFFNDBMWj"
      },
      "execution_count": 4,
      "outputs": []
    },
    {
      "cell_type": "code",
      "source": [
        "class OutputLayer(Layer):\n",
        "  def __init__(self, *args, **kwargs):\n",
        "    super().__init__(*args, **kwargs)\n",
        "  def grad(self, target, Oi):\n",
        "    Netj, Oj = self.compute(Oi)\n",
        "    delta = np.multiply(target - Oj, self.activation_grad(Netj))\n",
        "    Dw = np.dot(Oi.T, delta)\n",
        "    return Dw, delta"
      ],
      "metadata": {
        "id": "OMW5bsyJUuDX"
      },
      "execution_count": 5,
      "outputs": []
    },
    {
      "cell_type": "code",
      "source": [
        "class NeuralNetwork():\n",
        "  def __init__(self, layers, input_shape):\n",
        "    self.layers = layers\n",
        "    self.O_ALL = None\n",
        "    self.input_shape = input_shape\n",
        "    self.layers[0].initialize(self.input_shape)\n",
        "    for i in range(1, len(self.layers)):\n",
        "      self.layers[i].initialize(self.layers[i-1].n_neurons)\n",
        "  def predict(self, X):\n",
        "    Oi = X\n",
        "    self.O_ALL = []\n",
        "    self.O_ALL.append(Oi)\n",
        "    for layer in self.layers:\n",
        "      Oi = layer.compute(Oi)[1]\n",
        "      self.O_ALL.append(Oi)\n",
        "    return Oi\n",
        "  def loss(self, Oj, y):\n",
        "    E = 0.5 * (np.sum(y - Oj) ** 2)\n",
        "    return E\n",
        "  #def updates(self):\n",
        "  #def compute_grades(self):\n",
        "  def train(self, X_train, y_train, learning_rate, num_iterations):\n",
        "    history = []\n",
        "    for i in range(num_iterations):\n",
        "      Oj = self.predict(X_train)\n",
        "      E = self.loss(Oj, y_train)\n",
        "      history.append((i ,E))\n",
        "      print(f'iteration: {i}    Loss = {E}')\n",
        "      for j in reversed(range(len(self.layers))):\n",
        "        if j == len(self.layers) - 1:\n",
        "          Dw, delta = self.layers[j].grad(y_train, self.O_ALL[j])\n",
        "        else:\n",
        "          Dw, delta = self.layers[j].grad(delta, self.layers[j+1].w, self.O_ALL[j])\n",
        "        self.layers[j].update(learning_rate, Dw)\n"
      ],
      "metadata": {
        "id": "-v5Lkksr4xb5"
      },
      "execution_count": 6,
      "outputs": []
    },
    {
      "cell_type": "code",
      "source": [
        "X1 = np.linspace(-1, 1, 100)\n",
        "X2 = (3 * X1 + 5) + np.random.normal(size=(100))\n",
        "X = np.c_[X1, X2]\n",
        "y = (X1 >= 0)"
      ],
      "metadata": {
        "id": "BVDBkkCgYS_D"
      },
      "execution_count": 7,
      "outputs": []
    },
    {
      "cell_type": "code",
      "source": [
        "import matplotlib.pyplot as plt\n",
        "plt.scatter(X1[X1>=0], X2[X1>=0], color = 'red')\n",
        "plt.scatter(X1[X1<0], X2[X1<0])\n",
        "plt.show()"
      ],
      "metadata": {
        "colab": {
          "base_uri": "https://localhost:8080/",
          "height": 265
        },
        "id": "U65tymDc1XLh",
        "outputId": "adeaa6bb-94a7-4b07-acb9-07393eea213b"
      },
      "execution_count": 8,
      "outputs": [
        {
          "output_type": "display_data",
          "data": {
            "text/plain": [
              "<Figure size 432x288 with 1 Axes>"
            ],
            "image/png": "[encoded data removed]"
          },
          "metadata": {
            "needs_background": "light"
          }
        }
      ]
    },
    {
      "cell_type": "code",
      "source": [
        "layers = [\n",
        "    Layer(10, 'sigmoid'), \n",
        "    Layer(50, 'sigmoid'), \n",
        "    Layer(135, 'sigmoid'),\n",
        "    OutputLayer(2, 'sigmoid')\n",
        "]"
      ],
      "metadata": {
        "id": "yoAD6bVeWg0y"
      },
      "execution_count": 9,
      "outputs": []
    },
    {
      "cell_type": "code",
      "source": [
        "nn = NeuralNetwork(layers, 2) #2 is number of featuers"
      ],
      "metadata": {
        "id": "UcdcPYGpWmqk"
      },
      "execution_count": 10,
      "outputs": []
    },
    {
      "cell_type": "code",
      "source": [
        "X.shape"
      ],
      "metadata": {
        "colab": {
          "base_uri": "https://localhost:8080/"
        },
        "id": "zKD3Rvbi59Qh",
        "outputId": "f7d3f5cc-5f67-4ba5-dcda-a28e3f48d2e0"
      },
      "execution_count": 11,
      "outputs": [
        {
          "output_type": "execute_result",
          "data": {
            "text/plain": [
              "(100, 2)"
            ]
          },
          "metadata": {},
          "execution_count": 11
        }
      ]
    },
    {
      "cell_type": "code",
      "source": [
        "hold = nn.predict(X)"
      ],
      "metadata": {
        "id": "KI5bwv9PWnHA"
      },
      "execution_count": 12,
      "outputs": []
    },
    {
      "cell_type": "code",
      "source": [
        "print(hold.shape)"
      ],
      "metadata": {
        "colab": {
          "base_uri": "https://localhost:8080/"
        },
        "id": "WZuNk4DPZV37",
        "outputId": "a071d3e6-bcdb-47da-f559-53d717a5d404"
      },
      "execution_count": 13,
      "outputs": [
        {
          "output_type": "stream",
          "name": "stdout",
          "text": [
            "(100, 2)\n"
          ]
        }
      ]
    },
    {
      "cell_type": "code",
      "source": [
        "a = np.where(y, 1, 0)\n",
        "b = np.where(y, 0, 1)\n",
        "y_ = np.c_[a, b]"
      ],
      "metadata": {
        "id": "YIQ7q67DOczK"
      },
      "execution_count": 14,
      "outputs": []
    },
    {
      "cell_type": "code",
      "source": [
        "nn.train(X, y_, 1e-3, 100)"
      ],
      "metadata": {
        "colab": {
          "base_uri": "https://localhost:8080/"
        },
        "id": "u6uDIC7X00eZ",
        "outputId": "2692968b-7bdd-45ec-d249-b659f4883468"
      },
      "execution_count": 15,
      "outputs": [
        {
          "output_type": "stream",
          "name": "stdout",
          "text": [
            "iteration: 0    Loss = 0.4379867795622971\n",
            "iteration: 1    Loss = 0.37805826956800315\n",
            "iteration: 2    Loss = 0.32862228318599807\n",
            "iteration: 3    Loss = 0.2874479642820455\n",
            "iteration: 4    Loss = 0.25285763628106706\n",
            "iteration: 5    Loss = 0.2235715165782612\n",
            "iteration: 6    Loss = 0.19860070586556716\n",
            "iteration: 7    Loss = 0.1771721043484486\n",
            "iteration: 8    Loss = 0.15867486143286308\n",
            "iteration: 9    Loss = 0.14262161034563337\n",
            "iteration: 10    Loss = 0.1286200208198428\n",
            "iteration: 11    Loss = 0.11635166081327723\n",
            "iteration: 12    Loss = 0.10555610731737966\n",
            "iteration: 13    Loss = 0.09601887493932364\n",
            "iteration: 14    Loss = 0.08756215398087196\n",
            "iteration: 15    Loss = 0.08003763864874172\n",
            "iteration: 16    Loss = 0.07332092605173894\n",
            "iteration: 17    Loss = 0.06730710689093095\n",
            "iteration: 18    Loss = 0.06190726826197333\n",
            "iteration: 19    Loss = 0.057045700383950945\n",
            "iteration: 20    Loss = 0.05265765082537221\n",
            "iteration: 21    Loss = 0.04868750768524054\n",
            "iteration: 22    Loss = 0.045087321176801885\n",
            "iteration: 23    Loss = 0.04181559391925995\n",
            "iteration: 24    Loss = 0.03883628591239177\n",
            "iteration: 25    Loss = 0.03611799203251131\n",
            "iteration: 26    Loss = 0.033633258935880005\n",
            "iteration: 27    Loss = 0.031358015203464006\n",
            "iteration: 28    Loss = 0.029271093931803892\n",
            "iteration: 29    Loss = 0.027353831152319763\n",
            "iteration: 30    Loss = 0.025589726730239678\n",
            "iteration: 31    Loss = 0.02396415696681935\n",
            "iteration: 32    Loss = 0.022464130163665743\n",
            "iteration: 33    Loss = 0.021078078026757457\n",
            "iteration: 34    Loss = 0.0197956770812787\n",
            "iteration: 35    Loss = 0.01860769530731834\n",
            "iteration: 36    Loss = 0.017505860044398244\n",
            "iteration: 37    Loss = 0.016482743891739985\n",
            "iteration: 38    Loss = 0.015531665883467535\n",
            "iteration: 39    Loss = 0.014646605669121498\n",
            "iteration: 40    Loss = 0.013822128799715347\n",
            "iteration: 41    Loss = 0.013053321524061731\n",
            "iteration: 42    Loss = 0.01233573375147885\n",
            "iteration: 43    Loss = 0.011665329045408266\n",
            "iteration: 44    Loss = 0.011038440685726885\n",
            "iteration: 45    Loss = 0.010451732982057234\n",
            "iteration: 46    Loss = 0.009902167141357872\n",
            "iteration: 47    Loss = 0.009386971094511152\n",
            "iteration: 48    Loss = 0.008903612772069339\n",
            "iteration: 49    Loss = 0.008449776391417444\n",
            "iteration: 50    Loss = 0.008023341378599351\n",
            "iteration: 51    Loss = 0.00762236359979806\n",
            "iteration: 52    Loss = 0.007245058621517423\n",
            "iteration: 53    Loss = 0.0068897867560110395\n",
            "iteration: 54    Loss = 0.006555039680617436\n",
            "iteration: 55    Loss = 0.006239428447116875\n",
            "iteration: 56    Loss = 0.005941672720816864\n",
            "iteration: 57    Loss = 0.005660591109408298\n",
            "iteration: 58    Loss = 0.005395092459065676\n",
            "iteration: 59    Loss = 0.005144168010476236\n",
            "iteration: 60    Loss = 0.004906884320474676\n",
            "iteration: 61    Loss = 0.004682376866393731\n",
            "iteration: 62    Loss = 0.004469844260049669\n",
            "iteration: 63    Loss = 0.004268543006896037\n",
            "iteration: 64    Loss = 0.004077782753365569\n",
            "iteration: 65    Loss = 0.003896921971939809\n",
            "iteration: 66    Loss = 0.003725364039251557\n",
            "iteration: 67    Loss = 0.0035625536674876836\n",
            "iteration: 68    Loss = 0.003407973653824822\n",
            "iteration: 69    Loss = 0.003261141916441602\n",
            "iteration: 70    Loss = 0.003121608789116081\n",
            "iteration: 71    Loss = 0.002988954549383279\n",
            "iteration: 72    Loss = 0.0028627871579114434\n",
            "iteration: 73    Loss = 0.002742740189075093\n",
            "iteration: 74    Loss = 0.002628470934826099\n",
            "iteration: 75    Loss = 0.0025196586657553767\n",
            "iteration: 76    Loss = 0.0024160030349217104\n",
            "iteration: 77    Loss = 0.002317222611456014\n",
            "iteration: 78    Loss = 0.002223053532252544\n",
            "iteration: 79    Loss = 0.0021332482612141344\n",
            "iteration: 80    Loss = 0.0020475744465403745\n",
            "iteration: 81    Loss = 0.0019658138674990325\n",
            "iteration: 82    Loss = 0.00188776146289696\n",
            "iteration: 83    Loss = 0.0018132244342505398\n",
            "iteration: 84    Loss = 0.001742021417295028\n",
            "iteration: 85    Loss = 0.0016739817160583024\n",
            "iteration: 86    Loss = 0.0016089445942826573\n",
            "iteration: 87    Loss = 0.0015467586194338444\n",
            "iteration: 88    Loss = 0.0014872810549836563\n",
            "iteration: 89    Loss = 0.0014303772970331286\n",
            "iteration: 90    Loss = 0.0013759203516976886\n",
            "iteration: 91    Loss = 0.0013237903499931293\n",
            "iteration: 92    Loss = 0.0012738740972444052\n",
            "iteration: 93    Loss = 0.0012260646543039285\n",
            "iteration: 94    Loss = 0.0011802609480918828\n",
            "iteration: 95    Loss = 0.0011363674091886002\n",
            "iteration: 96    Loss = 0.0010942936344098947\n",
            "iteration: 97    Loss = 0.001053954072450225\n",
            "iteration: 98    Loss = 0.0010152677308587215\n",
            "iteration: 99    Loss = 0.0009781579027469164\n"
          ]
        }
      ]
    },
    {
      "cell_type": "code",
      "source": [
        "#ADD Relu, leaky Relu, Softmax\n",
        "#load momentum from my own notebook\n",
        "#tune the hyperparamter(learning_rate, #layers, #neurons/layer) till acheive a good results\n",
        "#write the report"
      ],
      "metadata": {
        "id": "bVmaAsD5FWbm"
      },
      "execution_count": 16,
      "outputs": []
    },
    {
      "cell_type": "code",
      "source": [
        ""
      ],
      "metadata": {
        "id": "hJYSG5vERTd1"
      },
      "execution_count": 18,
      "outputs": []
    }
  ]
}