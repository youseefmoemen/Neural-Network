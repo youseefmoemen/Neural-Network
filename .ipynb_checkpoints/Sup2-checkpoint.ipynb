{
  "cells": [
    {
      "cell_type": "markdown",
      "metadata": {
        "id": "view-in-github",
        "colab_type": "text"
      },
      "source": [
        "<a href=\"https://colab.research.google.com/github/youseefmoemen/Neural-Network/blob/main/.ipynb_checkpoints/Sup2-checkpoint.ipynb\" target=\"_parent\"><img src=\"https://colab.research.google.com/assets/colab-badge.svg\" alt=\"Open In Colab\"/></a>"
      ]
    },
    {
      "cell_type": "code",
      "execution_count": 18,
      "metadata": {
        "id": "GON6iRSbG-PX"
      },
      "outputs": [],
      "source": [
        "import numpy as np\n",
        "import sys"
      ]
    },
    {
      "cell_type": "code",
      "execution_count": 2,
      "metadata": {
        "id": "tv84SdZlPrxd"
      },
      "outputs": [],
      "source": [
        "def sigmoid(z):\n",
        "  return 1 / (1 + np.exp(-1 * z))\n",
        "def sigmoid_grad(z):\n",
        "  t = sigmoid(z)\n",
        "  return t * (1 - t)\n",
        "def leakyRelu(z):\n",
        "  return np.where(z >= 0, z, z * 0.3)\n",
        "def leakyRelu_grad(z):\n",
        "  return np.where(z >= 0, 1, 0.3)\n",
        "def tanh(z):\n",
        "  return np.tanh(z)\n",
        "def tanh_grad(z):\n",
        "  return 1 - np.power(tanh(z), 2)"
      ]
    },
    {
      "cell_type": "code",
      "execution_count": 3,
      "metadata": {
        "id": "A8eh2OJgP7IB"
      },
      "outputs": [],
      "source": [
        "Activations = {\n",
        "    'sigmoid': sigmoid,\n",
        "    'leakyRelu': leakyRelu,\n",
        "    'tanh': tanh\n",
        "}\n",
        "Activations_grad = {\n",
        "    'sigmoid': sigmoid_grad,\n",
        "    'leakyRelu': leakyRelu_grad,\n",
        "    'tanh': tanh_grad\n",
        "}"
      ]
    },
    {
      "cell_type": "code",
      "execution_count": 4,
      "metadata": {
        "id": "15j6dXKLIWN_"
      },
      "outputs": [],
      "source": [
        "from sklearn.datasets import fetch_openml\n",
        "import math"
      ]
    },
    {
      "cell_type": "code",
      "execution_count": 5,
      "metadata": {
        "id": "1Vx8P1VUHdk0"
      },
      "outputs": [],
      "source": [
        "mnist = fetch_openml('mnist_784', version = 1)"
      ]
    },
    {
      "cell_type": "code",
      "execution_count": 6,
      "metadata": {
        "id": "KVLMhO_MIYzq"
      },
      "outputs": [],
      "source": [
        "from sklearn.model_selection import StratifiedShuffleSplit"
      ]
    },
    {
      "cell_type": "code",
      "execution_count": 7,
      "metadata": {
        "id": "mXY0wY3DIbFX"
      },
      "outputs": [],
      "source": [
        "sss = StratifiedShuffleSplit(n_splits = 1, train_size=50000, test_size=10000)"
      ]
    },
    {
      "cell_type": "code",
      "execution_count": 8,
      "metadata": {
        "id": "D1VbSFuaIcp5"
      },
      "outputs": [],
      "source": [
        "for train_index, test_index in sss.split(mnist.data, mnist.target):\n",
        "  X_train = mnist.data.iloc[train_index] \n",
        "  y_train = mnist.target[train_index]\n",
        "  X_test = mnist.data.iloc[test_index] \n",
        "  y_test = mnist.target[test_index]"
      ]
    },
    {
      "cell_type": "code",
      "execution_count": 9,
      "metadata": {
        "id": "CKFS19L0Ierk"
      },
      "outputs": [],
      "source": [
        "def clip_image(img, clipping_size = 0):\n",
        "  img = img.reshape((28, 28))\n",
        "  img = np.delete(img, range(clipping_size), 0)\n",
        "  img = np.delete(img, range(clipping_size), 1)\n",
        "  return img.flatten()"
      ]
    },
    {
      "cell_type": "code",
      "execution_count": 10,
      "metadata": {
        "id": "75II8JDuIhF3"
      },
      "outputs": [],
      "source": [
        "def momentum(img, step_size, n_steps, clipping_size):\n",
        "  img = img.reshape((28 - clipping_size, 28-clipping_size))\n",
        "  momentums = []\n",
        "  for i in range(n_steps):\n",
        "    x = np.array(list(range(i*step_size, (i+1)*step_size)))\n",
        "    for j in range(n_steps):\n",
        "      pixels = img[j*step_size: (j+1)*step_size, i*step_size: (i+1) * step_size]\n",
        "      y =  np.array(list(range(j*step_size, (j+1)*step_size))).reshape(step_size,1)\n",
        "      area = np.sum(np.sum(pixels))\n",
        "      x_c = np.sum(np.sum(x.T * pixels)) / (area + 1e-10)\n",
        "      y_c = np.sum(np.sum(y * pixels)) / (area + 1e-10)\n",
        "      momentums.append((x_c, y_c))\n",
        "  return momentums"
      ]
    },
    {
      "cell_type": "code",
      "execution_count": 11,
      "metadata": {
        "id": "_hZcCsCXIimx"
      },
      "outputs": [],
      "source": [
        "def reduction(data = None, n_momentums = 9):\n",
        "  n_steps = math.floor(np.sqrt(n_momentums))\n",
        "  clipping_size = 28 % n_steps\n",
        "  step_size = (28 - clipping_size) // n_steps\n",
        "  data = np.apply_along_axis(clipping_size = clipping_size\n",
        "                      , func1d = clip_image, axis = 1, arr = data)\n",
        "  momentums = np.apply_along_axis(step_size = step_size, n_steps = n_steps,\n",
        "                                  clipping_size= clipping_size,\n",
        "                                  func1d = momentum, axis = 1, arr = data)\n",
        "  return data, momentums"
      ]
    },
    {
      "cell_type": "code",
      "execution_count": 12,
      "metadata": {
        "id": "XeGU_ZnMIkCS"
      },
      "outputs": [],
      "source": [
        "X_train = reduction(np.array(X_train.copy()), n_momentums = 9)[1].reshape(50000, 18)\n",
        "y_train2 = np.zeros(shape=(y_train.shape[0], 10))\n",
        "for index, instance in enumerate(y_train):\n",
        "  y_train2[index][int(instance)] = 1\n",
        "y_train = y_train2"
      ]
    },
    {
      "cell_type": "code",
      "source": [
        "X_test = reduction(np.array(X_test.copy()), n_momentums = 9)[1].reshape(10000, 18)\n",
        "y_test2 = np.zeros(shape=(y_test.shape[0], 10))\n",
        "for index, instance in enumerate(y_test):\n",
        "  y_test2[index][int(instance)] = 1\n",
        "y_test = y_test2"
      ],
      "metadata": {
        "id": "8ECP6FXzyzbS"
      },
      "execution_count": 21,
      "outputs": []
    },
    {
      "cell_type": "code",
      "execution_count": 13,
      "metadata": {
        "id": "JDuzFFNDBMWj"
      },
      "outputs": [],
      "source": [
        "class Layer():\n",
        "  def __init__(self, n_neurons, activation):\n",
        "    self.n_neurons = n_neurons\n",
        "    self.w = None\n",
        "    self.activation = Activations[activation]\n",
        "    self.activation_grad = Activations_grad[activation]\n",
        "  \n",
        "  def initialize(self, prev):\n",
        "    self.w = np.random.normal(size=(self.n_neurons, prev))\n",
        "\n",
        "  def compute(self, Oi):\n",
        "    Netj = np.dot(Oi, self.w.T)  \n",
        "    Oj = self.activation(Netj)\n",
        "    return Netj, Oj\n",
        "  \n",
        "  def grad(self, delta, w_next, Oi):\n",
        "    Netj = self.compute(Oi)[0]\n",
        "    partial = np.dot(delta, w_next)\n",
        "    delta = np.multiply(partial, self.activation_grad(Netj))\n",
        "    Dw = np.dot(delta.T, Oi)\n",
        "    return Dw, delta\n",
        "\n",
        "  def update(self, learning_rate, Dw):\n",
        "    hold = self.w.shape\n",
        "    self.w  = self.w  -  learning_rate * Dw"
      ]
    },
    {
      "cell_type": "code",
      "execution_count": 14,
      "metadata": {
        "id": "OMW5bsyJUuDX"
      },
      "outputs": [],
      "source": [
        "class OutputLayer(Layer):\n",
        "  def __init__(self, *args, **kwargs):\n",
        "    super().__init__(*args, **kwargs)\n",
        "  \n",
        "  def grad(self, target, Oi):\n",
        "    Netj, Oj = self.compute(Oi)\n",
        "    delta = np.multiply(-1* (1/target.shape[0]) * (target - Oj), self.activation_grad(Netj))\n",
        "    Dw = np.dot(delta.T, Oi)\n",
        "    return Dw, delta"
      ]
    },
    {
      "cell_type": "code",
      "execution_count": 19,
      "metadata": {
        "id": "-v5Lkksr4xb5"
      },
      "outputs": [],
      "source": [
        "class NeuralNetwork():\n",
        "  def __init__(self, layers, input_shape):\n",
        "    self.layers = layers\n",
        "    self.O_ALL = None\n",
        "    self.input_shape = input_shape\n",
        "    self.layers[0].initialize(self.input_shape)\n",
        "    for i in range(1, len(self.layers)):\n",
        "      self.layers[i].initialize(self.layers[i-1].n_neurons)\n",
        "  \n",
        "  def predict(self, X):\n",
        "    Oi = X\n",
        "    self.O_ALL = []\n",
        "    self.O_ALL.append(X)\n",
        "    for layer in self.layers:\n",
        "      Oi = layer.compute(Oi)[1]\n",
        "      self.O_ALL.append(Oi)\n",
        "    return Oi\n",
        "  \n",
        "\n",
        "  def loss(self, Oj, y):\n",
        "    E = (2 / y.shape[0]) * np.sum((y - Oj) ** 2)\n",
        "    return E\n",
        "  \n",
        "\n",
        "  def argmax(self, y):\n",
        "      MIN_INT = -sys.maxsize - 1\n",
        "      output = []\n",
        "      for yhat in y:\n",
        "          max = MIN_INT\n",
        "          max_idx = -1\n",
        "          for i, val in enumerate(yhat):\n",
        "              if val > max:\n",
        "                  max = val\n",
        "                  max_idx = i\n",
        "          output.append(max_idx)\n",
        "      return output\n",
        "\n",
        "  def accuracy(self, y_pred, y_true):\n",
        "    return np.sum(np.equal(self.arg(y_true), self.arg(y_pred))) / len(y_true)\n",
        "\n",
        "  def train(self, X_train, y_train, learning_rate, epochs, \n",
        "            X_val = None, y_val = None):\n",
        "    for i in range(epochs):\n",
        "        y_pred = self.predict(X_train)\n",
        "        print(f'epoch {i} accuracy {self.accuracy(y_pred, y_train)}' ,\n",
        "              f'loss {self.loss(y_train, y_pred)}')\n",
        "        for index, instance in enumerate(X_train):\n",
        "          self.predict(instance.reshape(1, -1))\n",
        "          for j in reversed(range(len(self.layers))):\n",
        "            if j == len(self.layers) - 1:\n",
        "              Dw, delta = self.layers[j].grad(y_train[index], self.O_ALL[-2])\n",
        "            else:\n",
        "              Dw, delta = self.layers[j].grad(delta, hold, self.O_ALL[j])\n",
        "            hold = self.layers[j].w.copy()\n",
        "            self.layers[j].update(learning_rate, Dw)"
      ]
    },
    {
      "cell_type": "code",
      "execution_count": 16,
      "metadata": {
        "colab": {
          "base_uri": "https://localhost:8080/"
        },
        "id": "D5-C_1w4BpiK",
        "outputId": "46e64786-c5c0-42f6-aeb5-f14fd8463485"
      },
      "outputs": [
        {
          "output_type": "stream",
          "name": "stdout",
          "text": [
            "epoch 0 accuracy 0.10122 loss 5.794919210175929\n",
            "epoch 1 accuracy 0.19726 loss 1.7698694243301607\n",
            "epoch 2 accuracy 0.21714 loss 1.7274844017501831\n",
            "epoch 3 accuracy 0.28792 loss 1.6057331925458098\n",
            "epoch 4 accuracy 0.31766 loss 1.5629766654038428\n",
            "epoch 5 accuracy 0.32674 loss 1.5408484544780752\n",
            "epoch 6 accuracy 0.32716 loss 1.527549547757187\n",
            "epoch 7 accuracy 0.32712 loss 1.517510334167616\n",
            "epoch 8 accuracy 0.32842 loss 1.5042442574582162\n",
            "epoch 9 accuracy 0.3299 loss 1.4946274892958795\n",
            "epoch 10 accuracy 0.33366 loss 1.4859192369463636\n",
            "epoch 11 accuracy 0.33878 loss 1.4797027728416188\n",
            "epoch 12 accuracy 0.34002 loss 1.4745098620691655\n",
            "epoch 13 accuracy 0.34714 loss 1.4651691903581165\n",
            "epoch 14 accuracy 0.34876 loss 1.4616182601301206\n",
            "epoch 15 accuracy 0.34956 loss 1.4589223910041793\n",
            "epoch 16 accuracy 0.35114 loss 1.4554341454330841\n",
            "epoch 17 accuracy 0.35136 loss 1.4511081380255477\n",
            "epoch 18 accuracy 0.35236 loss 1.4481376927569658\n",
            "epoch 19 accuracy 0.35246 loss 1.4453897589562306\n",
            "epoch 20 accuracy 0.35366 loss 1.4428501902771698\n",
            "epoch 21 accuracy 0.36374 loss 1.434827143806872\n",
            "epoch 22 accuracy 0.36618 loss 1.4284233525507033\n",
            "epoch 23 accuracy 0.38394 loss 1.4128029313693713\n",
            "epoch 24 accuracy 0.38584 loss 1.4064897153526714\n",
            "epoch 25 accuracy 0.38508 loss 1.4037910634949993\n",
            "epoch 26 accuracy 0.38694 loss 1.4014119639209697\n",
            "epoch 27 accuracy 0.38824 loss 1.3973669683869845\n",
            "epoch 28 accuracy 0.38912 loss 1.3946013632411745\n",
            "epoch 29 accuracy 0.3902 loss 1.3918402280314595\n",
            "epoch 30 accuracy 0.38926 loss 1.3934316611615056\n",
            "epoch 31 accuracy 0.39032 loss 1.389363690143366\n",
            "epoch 32 accuracy 0.39094 loss 1.3868421647953189\n",
            "epoch 33 accuracy 0.39084 loss 1.3862072560037406\n",
            "epoch 34 accuracy 0.39126 loss 1.3850665143488963\n",
            "epoch 35 accuracy 0.39756 loss 1.380781411610577\n",
            "epoch 36 accuracy 0.39798 loss 1.3792670472552617\n",
            "epoch 37 accuracy 0.4006 loss 1.376720186878831\n",
            "epoch 38 accuracy 0.40206 loss 1.3744648773761845\n",
            "epoch 39 accuracy 0.40482 loss 1.3667526183139476\n",
            "epoch 40 accuracy 0.4095 loss 1.3647343168664456\n",
            "epoch 41 accuracy 0.41416 loss 1.3500881669857672\n",
            "epoch 42 accuracy 0.4102 loss 1.36565035141726\n",
            "epoch 43 accuracy 0.41852 loss 1.3392776258618446\n",
            "epoch 44 accuracy 0.42068 loss 1.3297997169867677\n",
            "epoch 45 accuracy 0.41994 loss 1.3243029876838972\n",
            "epoch 46 accuracy 0.42182 loss 1.3217472344712906\n",
            "epoch 47 accuracy 0.42392 loss 1.3182338971008911\n",
            "epoch 48 accuracy 0.42478 loss 1.315734823786924\n",
            "epoch 49 accuracy 0.4249 loss 1.3197943012414561\n",
            "epoch 50 accuracy 0.42294 loss 1.3205756286724082\n",
            "epoch 51 accuracy 0.42446 loss 1.3215937705898022\n",
            "epoch 52 accuracy 0.42556 loss 1.316706738300458\n",
            "epoch 53 accuracy 0.42532 loss 1.3189416988356721\n",
            "epoch 54 accuracy 0.42674 loss 1.3188310718420055\n",
            "epoch 55 accuracy 0.43056 loss 1.3092643620445041\n",
            "epoch 56 accuracy 0.42716 loss 1.3177486204270212\n",
            "epoch 57 accuracy 0.4309 loss 1.3102540450091384\n",
            "epoch 58 accuracy 0.42984 loss 1.3140468658286169\n",
            "epoch 59 accuracy 0.43038 loss 1.3150619469452738\n",
            "epoch 60 accuracy 0.43192 loss 1.313573753384979\n",
            "epoch 61 accuracy 0.43266 loss 1.3155806232344742\n",
            "epoch 62 accuracy 0.43604 loss 1.306469245522385\n",
            "epoch 63 accuracy 0.43698 loss 1.3119688991142326\n",
            "epoch 64 accuracy 0.43768 loss 1.308000929037808\n",
            "epoch 65 accuracy 0.43692 loss 1.3098640131880004\n",
            "epoch 66 accuracy 0.43788 loss 1.3076174541633374\n",
            "epoch 67 accuracy 0.4388 loss 1.3063436605431442\n",
            "epoch 68 accuracy 0.43754 loss 1.307761868477312\n",
            "epoch 69 accuracy 0.43954 loss 1.3035793550277306\n",
            "epoch 70 accuracy 0.43964 loss 1.3010291376019838\n",
            "epoch 71 accuracy 0.43856 loss 1.3038608752488174\n",
            "epoch 72 accuracy 0.43972 loss 1.3034106547899793\n",
            "epoch 73 accuracy 0.44076 loss 1.2983122808414322\n",
            "epoch 74 accuracy 0.44136 loss 1.298732043508402\n",
            "epoch 75 accuracy 0.44012 loss 1.299514244838312\n",
            "epoch 76 accuracy 0.44182 loss 1.2964731391830457\n",
            "epoch 77 accuracy 0.4415 loss 1.2991331070882732\n",
            "epoch 78 accuracy 0.44088 loss 1.2993895602301784\n",
            "epoch 79 accuracy 0.4423 loss 1.2959696615690575\n",
            "epoch 80 accuracy 0.44166 loss 1.2960077558785978\n",
            "epoch 81 accuracy 0.44278 loss 1.294095654813535\n",
            "epoch 82 accuracy 0.44308 loss 1.2957441266441279\n",
            "epoch 83 accuracy 0.4411 loss 1.301212940937226\n",
            "epoch 84 accuracy 0.44208 loss 1.2963623692778945\n",
            "epoch 85 accuracy 0.44282 loss 1.2935807197266112\n",
            "epoch 86 accuracy 0.44148 loss 1.2981083334768635\n",
            "epoch 87 accuracy 0.443 loss 1.2935919709447055\n",
            "epoch 88 accuracy 0.44204 loss 1.2996524594781083\n",
            "epoch 89 accuracy 0.44268 loss 1.2976286975808289\n",
            "epoch 90 accuracy 0.44306 loss 1.2979568125619143\n",
            "epoch 91 accuracy 0.44306 loss 1.296573067604174\n",
            "epoch 92 accuracy 0.4432 loss 1.2966553403005698\n",
            "epoch 93 accuracy 0.44408 loss 1.2952510397737609\n",
            "epoch 94 accuracy 0.44384 loss 1.2951145075152073\n",
            "epoch 95 accuracy 0.44342 loss 1.2986116107617145\n",
            "epoch 96 accuracy 0.4436 loss 1.2976860363131126\n",
            "epoch 97 accuracy 0.44372 loss 1.2989049219272544\n",
            "epoch 98 accuracy 0.44526 loss 1.2931221627587681\n",
            "epoch 99 accuracy 0.44522 loss 1.2936474293675118\n"
          ]
        }
      ],
      "source": [
        "layers2 = [\n",
        "    Layer(10, 'sigmoid'),\n",
        "    Layer(10, 'sigmoid'),\n",
        "    OutputLayer(10, 'sigmoid')\n",
        "]\n",
        "nn2 = NeuralNetwork(layers2, 18)\n",
        "nn2.train(X_train, y_train, 0.05, 100)"
      ]
    },
    {
      "cell_type": "code",
      "execution_count": 22,
      "metadata": {
        "id": "3cUY-qa7-CvS",
        "outputId": "06b2768b-eb59-4b2f-9b30-2a8726312083",
        "colab": {
          "base_uri": "https://localhost:8080/"
        }
      },
      "outputs": [
        {
          "output_type": "execute_result",
          "data": {
            "text/plain": [
              "0.4473"
            ]
          },
          "metadata": {},
          "execution_count": 22
        }
      ],
      "source": [
        "y_pred = nn2.predict(X_test)\n",
        "nn2.accuracy(y_pred, y_test)"
      ]
    },
    {
      "cell_type": "code",
      "execution_count": null,
      "metadata": {
        "colab": {
          "base_uri": "https://localhost:8080/"
        },
        "id": "mbLNbXd8JELY",
        "outputId": "bcf76cec-e2a7-4198-b7c5-81282523cb56"
      },
      "outputs": [
        {
          "name": "stdout",
          "output_type": "stream",
          "text": [
            "epoch 0 accuracy 0.09712 loss 11137133.82249254\n",
            "epoch 1 accuracy 0.10274 loss 11339.383457013928\n",
            "epoch 2 accuracy 0.10046 loss 6092.336845194157\n",
            "epoch 3 accuracy 0.10032 loss 4310.085574610323\n",
            "epoch 4 accuracy 0.1052 loss 3376.0843825883194\n",
            "epoch 5 accuracy 0.1074 loss 2775.3373135972197\n",
            "epoch 6 accuracy 0.10794 loss 2349.8124647779614\n",
            "epoch 7 accuracy 0.10872 loss 2030.837498071235\n",
            "epoch 8 accuracy 0.10832 loss 1783.1107568807527\n",
            "epoch 9 accuracy 0.1086 loss 1585.3849028461107\n",
            "epoch 10 accuracy 0.10876 loss 1425.0667645761366\n",
            "epoch 11 accuracy 0.1088 loss 1292.7426889713408\n",
            "epoch 12 accuracy 0.10978 loss 1182.2962435555316\n",
            "epoch 13 accuracy 0.10988 loss 1089.013048954038\n",
            "epoch 14 accuracy 0.1107 loss 1009.0172029190085\n",
            "epoch 15 accuracy 0.11042 loss 939.8157917430916\n",
            "epoch 16 accuracy 0.10986 loss 878.8325558856058\n",
            "epoch 17 accuracy 0.10944 loss 824.1603420388632\n",
            "epoch 18 accuracy 0.10904 loss 775.7151174704187\n",
            "epoch 19 accuracy 0.10882 loss 733.0020037543743\n",
            "epoch 20 accuracy 0.10784 loss 694.9954981200685\n",
            "epoch 21 accuracy 0.10728 loss 660.9571241094752\n",
            "epoch 22 accuracy 0.10616 loss 630.2421459128577\n",
            "epoch 23 accuracy 0.10482 loss 602.3506673912443\n",
            "epoch 24 accuracy 0.1035 loss 576.9073028293456\n",
            "epoch 25 accuracy 0.10268 loss 553.6247795477411\n",
            "epoch 26 accuracy 0.10184 loss 532.1545277660646\n",
            "epoch 27 accuracy 0.10036 loss 512.3024744138169\n",
            "epoch 28 accuracy 0.09978 loss 493.91623828998286\n",
            "epoch 29 accuracy 0.09906 loss 476.82183472285953\n",
            "epoch 30 accuracy 0.09874 loss 460.8700161216607\n",
            "epoch 31 accuracy 0.09816 loss 445.95162156143664\n",
            "epoch 32 accuracy 0.09784 loss 431.96558627405824\n",
            "epoch 33 accuracy 0.0971 loss 418.80174373129205\n",
            "epoch 34 accuracy 0.09648 loss 406.38850263446534\n",
            "epoch 35 accuracy 0.09628 loss 394.6895610664717\n",
            "epoch 36 accuracy 0.09616 loss 383.6339152778928\n",
            "epoch 37 accuracy 0.09594 loss 373.16502320297394\n",
            "epoch 38 accuracy 0.09566 loss 363.2333365009145\n",
            "epoch 39 accuracy 0.0958 loss 353.7810938406816\n",
            "epoch 40 accuracy 0.09592 loss 344.79943525101663\n",
            "epoch 41 accuracy 0.09602 loss 336.25466241361875\n",
            "epoch 42 accuracy 0.09602 loss 328.10902641374054\n",
            "epoch 43 accuracy 0.09556 loss 320.3286022384653\n",
            "epoch 44 accuracy 0.09556 loss 312.9001601788253\n",
            "epoch 45 accuracy 0.09558 loss 305.79209132275935\n",
            "epoch 46 accuracy 0.096 loss 298.9694726882691\n",
            "epoch 47 accuracy 0.09592 loss 292.4229804681461\n",
            "epoch 48 accuracy 0.09584 loss 286.1459971634519\n",
            "epoch 49 accuracy 0.0961 loss 280.1182264789262\n",
            "epoch 50 accuracy 0.09614 loss 274.3251843015241\n",
            "epoch 51 accuracy 0.09638 loss 268.7598218725031\n",
            "epoch 52 accuracy 0.09632 loss 263.3940747017975\n",
            "epoch 53 accuracy 0.09652 loss 258.22578234232\n",
            "epoch 54 accuracy 0.09678 loss 253.2488928395806\n",
            "epoch 55 accuracy 0.0968 loss 248.44761554215725\n",
            "epoch 56 accuracy 0.09714 loss 243.81877047674683\n",
            "epoch 57 accuracy 0.0975 loss 239.34631403496607\n",
            "epoch 58 accuracy 0.09758 loss 235.02054896695756\n",
            "epoch 59 accuracy 0.09756 loss 230.83904733846563\n",
            "epoch 60 accuracy 0.09778 loss 226.79393484985414\n",
            "epoch 61 accuracy 0.09822 loss 222.88072597170586\n",
            "epoch 62 accuracy 0.09838 loss 219.0941212127069\n",
            "epoch 63 accuracy 0.0986 loss 215.42932966140887\n",
            "epoch 64 accuracy 0.09868 loss 211.88232630556354\n",
            "epoch 65 accuracy 0.09876 loss 208.44421731111632\n",
            "epoch 66 accuracy 0.09906 loss 205.11319687552725\n",
            "epoch 67 accuracy 0.09924 loss 201.8901362589165\n",
            "epoch 68 accuracy 0.09926 loss 198.76721379814504\n",
            "epoch 69 accuracy 0.09942 loss 195.7361895602615\n",
            "epoch 70 accuracy 0.09958 loss 192.8007595499992\n",
            "epoch 71 accuracy 0.0998 loss 189.94757751176658\n",
            "epoch 72 accuracy 0.10006 loss 187.17200052799146\n",
            "epoch 73 accuracy 0.10028 loss 184.47041907934775\n",
            "epoch 74 accuracy 0.10058 loss 181.83727855871965\n",
            "epoch 75 accuracy 0.10102 loss 179.27773100475198\n",
            "epoch 76 accuracy 0.1013 loss 176.78958856668814\n",
            "epoch 77 accuracy 0.10132 loss 174.37077778380677\n",
            "epoch 78 accuracy 0.10154 loss 172.01532792145022\n",
            "epoch 79 accuracy 0.10158 loss 169.71872214632606\n",
            "epoch 80 accuracy 0.10174 loss 167.48000796894272\n",
            "epoch 81 accuracy 0.10206 loss 165.29733270176345\n",
            "epoch 82 accuracy 0.10248 loss 163.16813452264824\n",
            "epoch 83 accuracy 0.10282 loss 161.08560626664865\n",
            "epoch 84 accuracy 0.10328 loss 159.05127492715016\n",
            "epoch 85 accuracy 0.10356 loss 157.06394417906216\n",
            "epoch 86 accuracy 0.104 loss 155.11851018325603\n",
            "epoch 87 accuracy 0.10418 loss 153.21264634558608\n",
            "epoch 88 accuracy 0.10452 loss 151.34697003988154\n",
            "epoch 89 accuracy 0.10498 loss 149.5154733937353\n",
            "epoch 90 accuracy 0.10544 loss 147.71774252924823\n",
            "epoch 91 accuracy 0.10582 loss 145.9550909469279\n",
            "epoch 92 accuracy 0.10614 loss 144.2286105750024\n",
            "epoch 93 accuracy 0.10648 loss 142.5322379733149\n",
            "epoch 94 accuracy 0.10692 loss 140.86454879795784\n",
            "epoch 95 accuracy 0.10732 loss 139.221870991795\n",
            "epoch 96 accuracy 0.10776 loss 137.60025148905459\n",
            "epoch 97 accuracy 0.108 loss 135.99922643154173\n",
            "epoch 98 accuracy 0.10852 loss 134.41394046693557\n",
            "epoch 99 accuracy 0.10908 loss 132.84253704848774\n"
          ]
        }
      ],
      "source": [
        "layers = [\n",
        "    Layer(35, 'leakyRelu'),\n",
        "    Layer(20, 'leakyRelu'),\n",
        "    OutputLayer(10, 'leakyRelu')\n",
        "]\n",
        "nn = NeuralNetwork(layers, 18)\n",
        "nn.train(X_train, y_train, 1e-7, 100)"
      ]
    }
  ],
  "metadata": {
    "colab": {
      "collapsed_sections": [],
      "name": "Sup2.ipynb",
      "provenance": [],
      "include_colab_link": true
    },
    "kernelspec": {
      "display_name": "Python 3 (ipykernel)",
      "language": "python",
      "name": "python3"
    },
    "language_info": {
      "codemirror_mode": {
        "name": "ipython",
        "version": 3
      },
      "file_extension": ".py",
      "mimetype": "text/x-python",
      "name": "python",
      "nbconvert_exporter": "python",
      "pygments_lexer": "ipython3",
      "version": "3.9.7"
    }
  },
  "nbformat": 4,
  "nbformat_minor": 0
}