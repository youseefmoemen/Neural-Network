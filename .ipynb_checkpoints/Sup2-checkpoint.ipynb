{
 "cells": [
  {
   "cell_type": "markdown",
   "metadata": {
    "colab_type": "text",
    "id": "view-in-github"
   },
   "source": [
    "<a href=\"https://colab.research.google.com/github/youseefmoemen/Neural-Network/blob/main/Sup2.ipynb\" target=\"_parent\"><img src=\"https://colab.research.google.com/assets/colab-badge.svg\" alt=\"Open In Colab\"/></a>"
   ]
  },
  {
   "cell_type": "code",
   "execution_count": 1,
   "metadata": {
    "id": "GON6iRSbG-PX"
   },
   "outputs": [],
   "source": [
    "import numpy as np"
   ]
  },
  {
   "cell_type": "code",
   "execution_count": 2,
   "metadata": {
    "id": "tv84SdZlPrxd"
   },
   "outputs": [],
   "source": [
    "def sigmoid(z):\n",
    "  return 1 / (1 + np.exp(-1 * z))\n",
    "def sigmoid_grad(z):\n",
    "  t = sigmoid(z)\n",
    "  return t * (1 - t)\n",
    "def leakyRelu(z):\n",
    "  return np.where(z >= 0, z, z * 0.3)\n",
    "def leakyRelu_grad(z):\n",
    "  return np.where(z >= 0, 1, 0.3)\n",
    "def tanh(z):\n",
    "  return np.tanh(z)\n",
    "def tanh_grad(z):\n",
    "  return 1 - np.power(tanh(z), 2)"
   ]
  },
  {
   "cell_type": "code",
   "execution_count": 3,
   "metadata": {
    "id": "A8eh2OJgP7IB"
   },
   "outputs": [],
   "source": [
    "Activations = {\n",
    "    'sigmoid': sigmoid,\n",
    "    'leakyRelu': leakyRelu,\n",
    "    'tanh': tanh\n",
    "}\n",
    "Activations_grad = {\n",
    "    'sigmoid': sigmoid_grad,\n",
    "    'leakyRelu': leakyRelu_grad,\n",
    "    'tanh': tanh_grad\n",
    "}"
   ]
  },
  {
   "cell_type": "code",
   "execution_count": 4,
   "metadata": {
    "id": "15j6dXKLIWN_"
   },
   "outputs": [],
   "source": [
    "from sklearn.datasets import fetch_openml\n",
    "import math"
   ]
  },
  {
   "cell_type": "code",
   "execution_count": 5,
   "metadata": {
    "id": "1Vx8P1VUHdk0"
   },
   "outputs": [],
   "source": [
    "mnist = fetch_openml('mnist_784', version = 1)"
   ]
  },
  {
   "cell_type": "code",
   "execution_count": 6,
   "metadata": {
    "id": "KVLMhO_MIYzq"
   },
   "outputs": [],
   "source": [
    "from sklearn.model_selection import StratifiedShuffleSplit"
   ]
  },
  {
   "cell_type": "code",
   "execution_count": 7,
   "metadata": {
    "id": "mXY0wY3DIbFX"
   },
   "outputs": [],
   "source": [
    "sss = StratifiedShuffleSplit(n_splits = 1, train_size=50000, test_size=10000)"
   ]
  },
  {
   "cell_type": "code",
   "execution_count": 8,
   "metadata": {
    "id": "D1VbSFuaIcp5"
   },
   "outputs": [],
   "source": [
    "for train_index, test_index in sss.split(mnist.data, mnist.target):\n",
    "  X_train = mnist.data.iloc[train_index] \n",
    "  y_train = mnist.target[train_index]\n",
    "  X_test = mnist.data.iloc[test_index] \n",
    "  y_test = mnist.target[test_index]"
   ]
  },
  {
   "cell_type": "code",
   "execution_count": 9,
   "metadata": {
    "id": "CKFS19L0Ierk"
   },
   "outputs": [],
   "source": [
    "def clip_image(img, clipping_size = 0):\n",
    "  img = img.reshape((28, 28))\n",
    "  img = np.delete(img, range(clipping_size), 0)\n",
    "  img = np.delete(img, range(clipping_size), 1)\n",
    "  return img.flatten()"
   ]
  },
  {
   "cell_type": "code",
   "execution_count": 10,
   "metadata": {
    "id": "75II8JDuIhF3"
   },
   "outputs": [],
   "source": [
    "def momentum(img, step_size, n_steps, clipping_size):\n",
    "  img = img.reshape((28 - clipping_size, 28-clipping_size))\n",
    "  momentums = []\n",
    "  for i in range(n_steps):\n",
    "    x = np.array(list(range(i*step_size, (i+1)*step_size)))\n",
    "    for j in range(n_steps):\n",
    "      pixels = img[j*step_size: (j+1)*step_size, i*step_size: (i+1) * step_size]\n",
    "      y =  np.array(list(range(j*step_size, (j+1)*step_size))).reshape(step_size,1)\n",
    "      area = np.sum(np.sum(pixels))\n",
    "      x_c = np.sum(np.sum(x.T * pixels)) / (area + 1e-10)\n",
    "      y_c = np.sum(np.sum(y * pixels)) / (area + 1e-10)\n",
    "      momentums.append((x_c, y_c))\n",
    "  return momentums"
   ]
  },
  {
   "cell_type": "code",
   "execution_count": 11,
   "metadata": {
    "id": "_hZcCsCXIimx"
   },
   "outputs": [],
   "source": [
    "def reduction(data = None, n_momentums = 9):\n",
    "  n_steps = math.floor(np.sqrt(n_momentums))\n",
    "  clipping_size = 28 % n_steps\n",
    "  step_size = (28 - clipping_size) // n_steps\n",
    "  data = np.apply_along_axis(clipping_size = clipping_size\n",
    "                      , func1d = clip_image, axis = 1, arr = data)\n",
    "  momentums = np.apply_along_axis(step_size = step_size, n_steps = n_steps,\n",
    "                                  clipping_size= clipping_size,\n",
    "                                  func1d = momentum, axis = 1, arr = data)\n",
    "  return data, momentums"
   ]
  },
  {
   "cell_type": "code",
   "execution_count": 12,
   "metadata": {
    "id": "XeGU_ZnMIkCS"
   },
   "outputs": [],
   "source": [
    "X_train = reduction(np.array(X_train.copy()), n_momentums = 9)[1].reshape(50000, 18)\n",
    "y_train2 = np.zeros(shape=(y_train.shape[0], 10))\n",
    "for index, instance in enumerate(y_train):\n",
    "  y_train2[index][int(instance)] = 1\n",
    "y_train = y_train2"
   ]
  },
  {
   "cell_type": "code",
   "execution_count": 13,
   "metadata": {
    "id": "JDuzFFNDBMWj"
   },
   "outputs": [],
   "source": [
    "class Layer():\n",
    "  def __init__(self, n_neurons, activation):\n",
    "    self.n_neurons = n_neurons\n",
    "    self.w = None\n",
    "    self.activation = Activations[activation]\n",
    "    self.activation_grad = Activations_grad[activation]\n",
    "  \n",
    "  def initialize(self, prev):\n",
    "    self.w = np.random.normal(size=(self.n_neurons, prev))\n",
    "\n",
    "  def compute(self, Oi):\n",
    "    Netj = np.dot(Oi, self.w.T)  \n",
    "    Oj = self.activation(Netj)\n",
    "    return Netj, Oj\n",
    "  \n",
    "  def grad(self, delta, w_next, Oi):\n",
    "    Netj = self.compute(Oi)[0]\n",
    "    partial = np.dot(delta, w_next)\n",
    "    delta = np.multiply(partial, self.activation_grad(Netj))\n",
    "    Dw = np.dot(delta.T, Oi)\n",
    "    return Dw, delta\n",
    "\n",
    "  def update(self, learning_rate, Dw):\n",
    "    hold = self.w.shape\n",
    "    self.w  = self.w  -  learning_rate * Dw"
   ]
  },
  {
   "cell_type": "code",
   "execution_count": 14,
   "metadata": {
    "id": "OMW5bsyJUuDX"
   },
   "outputs": [],
   "source": [
    "class OutputLayer(Layer):\n",
    "  def __init__(self, *args, **kwargs):\n",
    "    super().__init__(*args, **kwargs)\n",
    "  \n",
    "  def grad(self, target, Oi):\n",
    "    Netj, Oj = self.compute(Oi)\n",
    "    delta = np.multiply(-1* (1/target.shape[0]) * (target - Oj), self.activation_grad(Netj))\n",
    "    Dw = np.dot(delta.T, Oi)\n",
    "    return Dw, delta"
   ]
  },
  {
   "cell_type": "code",
   "execution_count": 15,
   "metadata": {
    "id": "-v5Lkksr4xb5"
   },
   "outputs": [],
   "source": [
    "class NeuralNetwork():\n",
    "  def __init__(self, layers, input_shape):\n",
    "    self.layers = layers\n",
    "    self.O_ALL = None\n",
    "    self.input_shape = input_shape\n",
    "    self.layers[0].initialize(self.input_shape)\n",
    "    for i in range(1, len(self.layers)):\n",
    "      self.layers[i].initialize(self.layers[i-1].n_neurons)\n",
    "  \n",
    "  def predict(self, X):\n",
    "    Oi = X\n",
    "    self.O_ALL = []\n",
    "    self.O_ALL.append(X)\n",
    "    for layer in self.layers:\n",
    "      Oi = layer.compute(Oi)[1]\n",
    "      self.O_ALL.append(Oi)\n",
    "    return Oi\n",
    "  \n",
    "\n",
    "  def loss(self, Oj, y):\n",
    "    E = (2 / y.shape[0]) * np.sum((y - Oj) ** 2)\n",
    "    return E\n",
    "  \n",
    "  def arg(self, y):\n",
    "    predictions = np.zeros((y.shape[0], 1))\n",
    "    for index, instance in enumerate(y):\n",
    "      idx = 0\n",
    "      for i in range(1, 10):\n",
    "        if instance[i] > instance[idx]:\n",
    "          idx = i\n",
    "      predictions[index] = idx\n",
    "    return predictions\n",
    "\n",
    "  def accuracy(self, y_pred, y_true):\n",
    "    return np.sum(np.equal(self.arg(y_true), self.arg(y_pred))) / len(y_true)\n",
    "\n",
    "  def train(self, X_train, y_train, learning_rate, epochs, \n",
    "            X_val = None, y_val = None):\n",
    "    for i in range(epochs):\n",
    "        y_pred = self.predict(X_train)\n",
    "        print(f'epoch {i} accuracy {self.accuracy(y_pred, y_train)}' ,\n",
    "              f'loss {self.loss(y_train, y_pred)}')\n",
    "        for index, instance in enumerate(X_train):\n",
    "          self.predict(instance.reshape(1, -1))\n",
    "          for j in reversed(range(len(self.layers))):\n",
    "            if j == len(self.layers) - 1:\n",
    "              Dw, delta = self.layers[j].grad(y_train[index], self.O_ALL[-2])\n",
    "            else:\n",
    "              Dw, delta = self.layers[j].grad(delta, hold, self.O_ALL[j])\n",
    "            hold = self.layers[j].w.copy()\n",
    "            self.layers[j].update(learning_rate, Dw)"
   ]
  },
  {
   "cell_type": "code",
   "execution_count": 16,
   "metadata": {
    "colab": {
     "base_uri": "https://localhost:8080/"
    },
    "id": "D5-C_1w4BpiK",
    "outputId": "17e53297-9ebc-456a-bd73-8f4c9a39d8bf"
   },
   "outputs": [
    {
     "name": "stdout",
     "output_type": "stream",
     "text": [
      "epoch 0 accuracy 0.09202 loss 9.517538427848642\n",
      "epoch 1 accuracy 0.14988 loss 1.7740342280627772\n",
      "epoch 2 accuracy 0.2374 loss 1.738947599357367\n",
      "epoch 3 accuracy 0.25174 loss 1.712493362355875\n",
      "epoch 4 accuracy 0.30892 loss 1.6862071538963683\n",
      "epoch 5 accuracy 0.3272 loss 1.647958823775258\n",
      "epoch 6 accuracy 0.33924 loss 1.587119754822479\n",
      "epoch 7 accuracy 0.33494 loss 1.521762806674168\n",
      "epoch 8 accuracy 0.38852 loss 1.4813436349849747\n",
      "epoch 9 accuracy 0.39652 loss 1.4499822954200654\n",
      "epoch 10 accuracy 0.41182 loss 1.42633778118373\n",
      "epoch 11 accuracy 0.43188 loss 1.4042368356762682\n",
      "epoch 12 accuracy 0.44248 loss 1.380249616006703\n",
      "epoch 13 accuracy 0.45304 loss 1.3526690760120856\n",
      "epoch 14 accuracy 0.4643 loss 1.3240565413431389\n",
      "epoch 15 accuracy 0.48314 loss 1.2928783104483328\n",
      "epoch 16 accuracy 0.4855 loss 1.2814996720987561\n",
      "epoch 17 accuracy 0.4977 loss 1.2632657633656061\n",
      "epoch 18 accuracy 0.50082 loss 1.2509704758867064\n",
      "epoch 19 accuracy 0.51276 loss 1.2272247665978016\n",
      "epoch 20 accuracy 0.5184 loss 1.215599782272449\n",
      "epoch 21 accuracy 0.50776 loss 1.2394545164461437\n",
      "epoch 22 accuracy 0.49966 loss 1.2508201769335425\n",
      "epoch 23 accuracy 0.51146 loss 1.220352013313715\n",
      "epoch 24 accuracy 0.51786 loss 1.2135220539542\n",
      "epoch 25 accuracy 0.5173 loss 1.208510940916458\n",
      "epoch 26 accuracy 0.53834 loss 1.1729314518033653\n",
      "epoch 27 accuracy 0.54554 loss 1.1601293852068562\n",
      "epoch 28 accuracy 0.55618 loss 1.1403836248250774\n",
      "epoch 29 accuracy 0.5658 loss 1.1205485841267833\n",
      "epoch 30 accuracy 0.55842 loss 1.1348358683603816\n",
      "epoch 31 accuracy 0.57474 loss 1.1034745416028233\n",
      "epoch 32 accuracy 0.5841 loss 1.081448679655675\n",
      "epoch 33 accuracy 0.6051 loss 1.0765368853736086\n",
      "epoch 34 accuracy 0.61032 loss 1.0651538087663872\n",
      "epoch 35 accuracy 0.622 loss 1.0323124701750346\n",
      "epoch 36 accuracy 0.61662 loss 1.0468276322797934\n",
      "epoch 37 accuracy 0.62186 loss 1.02937802725831\n",
      "epoch 38 accuracy 0.62088 loss 1.030760580890044\n",
      "epoch 39 accuracy 0.61334 loss 1.0436122979248288\n",
      "epoch 40 accuracy 0.62762 loss 1.0105054784872813\n",
      "epoch 41 accuracy 0.62698 loss 1.0101402896916334\n",
      "epoch 42 accuracy 0.61964 loss 1.017378460183721\n",
      "epoch 43 accuracy 0.61988 loss 1.0222756381914349\n",
      "epoch 44 accuracy 0.62646 loss 1.0088470357670871\n",
      "epoch 45 accuracy 0.6239 loss 1.0146653069414424\n",
      "epoch 46 accuracy 0.62952 loss 1.0002351317657798\n",
      "epoch 47 accuracy 0.62968 loss 0.9990303150689624\n",
      "epoch 48 accuracy 0.61932 loss 1.0240697538698131\n",
      "epoch 49 accuracy 0.61426 loss 1.0307283743565345\n",
      "epoch 50 accuracy 0.62574 loss 1.0062220755821623\n",
      "epoch 51 accuracy 0.63186 loss 0.9907459467974645\n",
      "epoch 52 accuracy 0.62102 loss 1.0157708865224493\n",
      "epoch 53 accuracy 0.62086 loss 1.014403460168529\n",
      "epoch 54 accuracy 0.6206 loss 1.011765159633107\n",
      "epoch 55 accuracy 0.60854 loss 1.0358775350859861\n",
      "epoch 56 accuracy 0.61112 loss 1.0286477854038598\n",
      "epoch 57 accuracy 0.6265 loss 0.9923170290485328\n",
      "epoch 58 accuracy 0.62638 loss 0.984059309796304\n",
      "epoch 59 accuracy 0.6505 loss 0.97809348286462\n",
      "epoch 60 accuracy 0.65564 loss 0.9695502704358173\n",
      "epoch 61 accuracy 0.64888 loss 0.9742685850455217\n",
      "epoch 62 accuracy 0.65992 loss 0.9558093405317833\n",
      "epoch 63 accuracy 0.64302 loss 0.9872972362691815\n",
      "epoch 64 accuracy 0.6513 loss 0.9742738954773243\n",
      "epoch 65 accuracy 0.6608 loss 0.9576631569842865\n",
      "epoch 66 accuracy 0.65278 loss 0.9628885731430136\n",
      "epoch 67 accuracy 0.6463 loss 0.9740089507439781\n",
      "epoch 68 accuracy 0.65252 loss 0.9618773940397718\n",
      "epoch 69 accuracy 0.64582 loss 0.9745481827147281\n",
      "epoch 70 accuracy 0.66134 loss 0.9410450298962544\n",
      "epoch 71 accuracy 0.64464 loss 0.97424331015323\n",
      "epoch 72 accuracy 0.64676 loss 0.9682417204399545\n",
      "epoch 73 accuracy 0.65152 loss 0.9608863844047848\n",
      "epoch 74 accuracy 0.64786 loss 0.9691377155974196\n",
      "epoch 75 accuracy 0.66322 loss 0.9381726533102641\n",
      "epoch 76 accuracy 0.6617 loss 0.9434390250129397\n",
      "epoch 77 accuracy 0.66152 loss 0.9510182612588332\n",
      "epoch 78 accuracy 0.64998 loss 0.9649856505891009\n",
      "epoch 79 accuracy 0.66378 loss 0.9379526996586603\n",
      "epoch 80 accuracy 0.65534 loss 0.9551040965382668\n",
      "epoch 81 accuracy 0.65336 loss 0.9602123357068786\n",
      "epoch 82 accuracy 0.65964 loss 0.9498877616480786\n",
      "epoch 83 accuracy 0.66034 loss 0.94100164658842\n",
      "epoch 84 accuracy 0.64088 loss 0.9878083412985279\n",
      "epoch 85 accuracy 0.6491 loss 0.9599165170266271\n",
      "epoch 86 accuracy 0.65692 loss 0.9450547397850719\n",
      "epoch 87 accuracy 0.66812 loss 0.9329335502053279\n",
      "epoch 88 accuracy 0.65402 loss 0.9490400752364553\n",
      "epoch 89 accuracy 0.6589 loss 0.9416889683481069\n",
      "epoch 90 accuracy 0.65076 loss 0.9550181658021552\n",
      "epoch 91 accuracy 0.6664 loss 0.9267433388822219\n",
      "epoch 92 accuracy 0.66382 loss 0.9341612838818877\n",
      "epoch 93 accuracy 0.67196 loss 0.916690520059418\n",
      "epoch 94 accuracy 0.67288 loss 0.9221045702632598\n",
      "epoch 95 accuracy 0.67148 loss 0.9219159487867097\n",
      "epoch 96 accuracy 0.66662 loss 0.9291730736214191\n",
      "epoch 97 accuracy 0.64354 loss 0.9842765175226823\n",
      "epoch 98 accuracy 0.6699 loss 0.9244144214610013\n",
      "epoch 99 accuracy 0.6483 loss 0.9677483648813351\n"
     ]
    }
   ],
   "source": [
    "layers2 = [\n",
    "    Layer(10, 'sigmoid'),\n",
    "    Layer(10, 'sigmoid'),\n",
    "    OutputLayer(10, 'sigmoid')\n",
    "]\n",
    "nn2 = NeuralNetwork(layers2, 18)\n",
    "nn2.train(X_train, y_train, 0.05, 100)"
   ]
  },
  {
   "cell_type": "code",
   "execution_count": 17,
   "metadata": {
    "colab": {
     "base_uri": "https://localhost:8080/"
    },
    "id": "mbLNbXd8JELY",
    "outputId": "bcf76cec-e2a7-4198-b7c5-81282523cb56"
   },
   "outputs": [
    {
     "name": "stdout",
     "output_type": "stream",
     "text": [
      "epoch 0 accuracy 0.09712 loss 11137133.82249254\n",
      "epoch 1 accuracy 0.10274 loss 11339.383457013928\n",
      "epoch 2 accuracy 0.10046 loss 6092.336845194157\n",
      "epoch 3 accuracy 0.10032 loss 4310.085574610323\n",
      "epoch 4 accuracy 0.1052 loss 3376.0843825883194\n",
      "epoch 5 accuracy 0.1074 loss 2775.3373135972197\n",
      "epoch 6 accuracy 0.10794 loss 2349.8124647779614\n",
      "epoch 7 accuracy 0.10872 loss 2030.837498071235\n",
      "epoch 8 accuracy 0.10832 loss 1783.1107568807527\n",
      "epoch 9 accuracy 0.1086 loss 1585.3849028461107\n",
      "epoch 10 accuracy 0.10876 loss 1425.0667645761366\n",
      "epoch 11 accuracy 0.1088 loss 1292.7426889713408\n",
      "epoch 12 accuracy 0.10978 loss 1182.2962435555316\n",
      "epoch 13 accuracy 0.10988 loss 1089.013048954038\n",
      "epoch 14 accuracy 0.1107 loss 1009.0172029190085\n",
      "epoch 15 accuracy 0.11042 loss 939.8157917430916\n",
      "epoch 16 accuracy 0.10986 loss 878.8325558856058\n",
      "epoch 17 accuracy 0.10944 loss 824.1603420388632\n",
      "epoch 18 accuracy 0.10904 loss 775.7151174704187\n",
      "epoch 19 accuracy 0.10882 loss 733.0020037543743\n",
      "epoch 20 accuracy 0.10784 loss 694.9954981200685\n",
      "epoch 21 accuracy 0.10728 loss 660.9571241094752\n",
      "epoch 22 accuracy 0.10616 loss 630.2421459128577\n",
      "epoch 23 accuracy 0.10482 loss 602.3506673912443\n",
      "epoch 24 accuracy 0.1035 loss 576.9073028293456\n",
      "epoch 25 accuracy 0.10268 loss 553.6247795477411\n",
      "epoch 26 accuracy 0.10184 loss 532.1545277660646\n",
      "epoch 27 accuracy 0.10036 loss 512.3024744138169\n",
      "epoch 28 accuracy 0.09978 loss 493.91623828998286\n",
      "epoch 29 accuracy 0.09906 loss 476.82183472285953\n",
      "epoch 30 accuracy 0.09874 loss 460.8700161216607\n",
      "epoch 31 accuracy 0.09816 loss 445.95162156143664\n",
      "epoch 32 accuracy 0.09784 loss 431.96558627405824\n",
      "epoch 33 accuracy 0.0971 loss 418.80174373129205\n",
      "epoch 34 accuracy 0.09648 loss 406.38850263446534\n",
      "epoch 35 accuracy 0.09628 loss 394.6895610664717\n",
      "epoch 36 accuracy 0.09616 loss 383.6339152778928\n",
      "epoch 37 accuracy 0.09594 loss 373.16502320297394\n",
      "epoch 38 accuracy 0.09566 loss 363.2333365009145\n",
      "epoch 39 accuracy 0.0958 loss 353.7810938406816\n",
      "epoch 40 accuracy 0.09592 loss 344.79943525101663\n",
      "epoch 41 accuracy 0.09602 loss 336.25466241361875\n",
      "epoch 42 accuracy 0.09602 loss 328.10902641374054\n",
      "epoch 43 accuracy 0.09556 loss 320.3286022384653\n",
      "epoch 44 accuracy 0.09556 loss 312.9001601788253\n",
      "epoch 45 accuracy 0.09558 loss 305.79209132275935\n",
      "epoch 46 accuracy 0.096 loss 298.9694726882691\n",
      "epoch 47 accuracy 0.09592 loss 292.4229804681461\n",
      "epoch 48 accuracy 0.09584 loss 286.1459971634519\n",
      "epoch 49 accuracy 0.0961 loss 280.1182264789262\n",
      "epoch 50 accuracy 0.09614 loss 274.3251843015241\n",
      "epoch 51 accuracy 0.09638 loss 268.7598218725031\n",
      "epoch 52 accuracy 0.09632 loss 263.3940747017975\n",
      "epoch 53 accuracy 0.09652 loss 258.22578234232\n",
      "epoch 54 accuracy 0.09678 loss 253.2488928395806\n",
      "epoch 55 accuracy 0.0968 loss 248.44761554215725\n",
      "epoch 56 accuracy 0.09714 loss 243.81877047674683\n",
      "epoch 57 accuracy 0.0975 loss 239.34631403496607\n",
      "epoch 58 accuracy 0.09758 loss 235.02054896695756\n",
      "epoch 59 accuracy 0.09756 loss 230.83904733846563\n",
      "epoch 60 accuracy 0.09778 loss 226.79393484985414\n",
      "epoch 61 accuracy 0.09822 loss 222.88072597170586\n",
      "epoch 62 accuracy 0.09838 loss 219.0941212127069\n",
      "epoch 63 accuracy 0.0986 loss 215.42932966140887\n",
      "epoch 64 accuracy 0.09868 loss 211.88232630556354\n",
      "epoch 65 accuracy 0.09876 loss 208.44421731111632\n",
      "epoch 66 accuracy 0.09906 loss 205.11319687552725\n",
      "epoch 67 accuracy 0.09924 loss 201.8901362589165\n",
      "epoch 68 accuracy 0.09926 loss 198.76721379814504\n",
      "epoch 69 accuracy 0.09942 loss 195.7361895602615\n",
      "epoch 70 accuracy 0.09958 loss 192.8007595499992\n",
      "epoch 71 accuracy 0.0998 loss 189.94757751176658\n",
      "epoch 72 accuracy 0.10006 loss 187.17200052799146\n",
      "epoch 73 accuracy 0.10028 loss 184.47041907934775\n",
      "epoch 74 accuracy 0.10058 loss 181.83727855871965\n",
      "epoch 75 accuracy 0.10102 loss 179.27773100475198\n",
      "epoch 76 accuracy 0.1013 loss 176.78958856668814\n",
      "epoch 77 accuracy 0.10132 loss 174.37077778380677\n",
      "epoch 78 accuracy 0.10154 loss 172.01532792145022\n",
      "epoch 79 accuracy 0.10158 loss 169.71872214632606\n",
      "epoch 80 accuracy 0.10174 loss 167.48000796894272\n",
      "epoch 81 accuracy 0.10206 loss 165.29733270176345\n",
      "epoch 82 accuracy 0.10248 loss 163.16813452264824\n",
      "epoch 83 accuracy 0.10282 loss 161.08560626664865\n",
      "epoch 84 accuracy 0.10328 loss 159.05127492715016\n",
      "epoch 85 accuracy 0.10356 loss 157.06394417906216\n",
      "epoch 86 accuracy 0.104 loss 155.11851018325603\n",
      "epoch 87 accuracy 0.10418 loss 153.21264634558608\n",
      "epoch 88 accuracy 0.10452 loss 151.34697003988154\n",
      "epoch 89 accuracy 0.10498 loss 149.5154733937353\n",
      "epoch 90 accuracy 0.10544 loss 147.71774252924823\n",
      "epoch 91 accuracy 0.10582 loss 145.9550909469279\n",
      "epoch 92 accuracy 0.10614 loss 144.2286105750024\n",
      "epoch 93 accuracy 0.10648 loss 142.5322379733149\n",
      "epoch 94 accuracy 0.10692 loss 140.86454879795784\n",
      "epoch 95 accuracy 0.10732 loss 139.221870991795\n",
      "epoch 96 accuracy 0.10776 loss 137.60025148905459\n",
      "epoch 97 accuracy 0.108 loss 135.99922643154173\n",
      "epoch 98 accuracy 0.10852 loss 134.41394046693557\n",
      "epoch 99 accuracy 0.10908 loss 132.84253704848774\n"
     ]
    }
   ],
   "source": [
    "layers = [\n",
    "    Layer(35, 'leakyRelu'),\n",
    "    Layer(20, 'leakyRelu'),\n",
    "    OutputLayer(10, 'leakyRelu')\n",
    "]\n",
    "nn = NeuralNetwork(layers, 18)\n",
    "nn.train(X_train, y_train, 1e-7, 100)"
   ]
  },
  {
   "cell_type": "code",
   "execution_count": 18,
   "metadata": {
    "id": "3cUY-qa7-CvS"
   },
   "outputs": [],
   "source": [
    "#test\n",
    "#history"
   ]
  }
 ],
 "metadata": {
  "colab": {
   "collapsed_sections": [],
   "include_colab_link": true,
   "name": "Sup2.ipynb",
   "provenance": []
  },
  "kernelspec": {
   "display_name": "Python 3 (ipykernel)",
   "language": "python",
   "name": "python3"
  },
  "language_info": {
   "codemirror_mode": {
    "name": "ipython",
    "version": 3
   },
   "file_extension": ".py",
   "mimetype": "text/x-python",
   "name": "python",
   "nbconvert_exporter": "python",
   "pygments_lexer": "ipython3",
   "version": "3.9.7"
  }
 },
 "nbformat": 4,
 "nbformat_minor": 1
}
